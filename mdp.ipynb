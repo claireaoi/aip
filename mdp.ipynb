{
  "nbformat": 4,
  "nbformat_minor": 0,
  "metadata": {
    "colab": {
      "name": "mdp.ipynb",
      "provenance": [],
      "collapsed_sections": [],
      "include_colab_link": true
    },
    "kernelspec": {
      "name": "python3",
      "display_name": "Python 3"
    }
  },
  "cells": [
    {
      "cell_type": "markdown",
      "metadata": {
        "id": "view-in-github",
        "colab_type": "text"
      },
      "source": [
        "<a href=\"https://colab.research.google.com/github/vbipin/aip/blob/master/mdp.ipynb\" target=\"_parent\"><img src=\"https://colab.research.google.com/assets/colab-badge.svg\" alt=\"Open In Colab\"/></a>"
      ]
    },
    {
      "cell_type": "code",
      "metadata": {
        "id": "pr2dA9HmkePh",
        "colab_type": "code",
        "colab": {}
      },
      "source": [
        "#we plan to implement some of the algorithms related to MDPs and RL\n",
        "#MDP study\n",
        "#%matplotlib inline\n",
        "#import matplotlib\n",
        "#import numpy as np\n",
        "#import matplotlib.pyplot as plt\n",
        "\n",
        "#I am trying to avoid the numpy dependencies\n",
        "\n",
        "import random\n",
        "#\n",
        "#We plan to implement the gridworld class \n",
        "#\n"
      ],
      "execution_count": 0,
      "outputs": []
    },
    {
      "cell_type": "code",
      "metadata": {
        "id": "NU8O0Do5k-8S",
        "colab_type": "code",
        "colab": {}
      },
      "source": [
        "#ref: Chapter 17, Artificial Intelligence a Modern Approach\n",
        "#ref: CS188 https://inst.eecs.berkeley.edu/~cs188/fa19/\n",
        "#ref: https://inst.eecs.berkeley.edu/~cs188/fa19/assets/slides/lec8.pdf\n",
        "\n",
        "#This class will create a 2D grid of row x colums \n",
        "#Some of the cells can be disabled by putting it into walls\n",
        "#cells are addressed just like 2d arrays (r,c)\n",
        "#There are possibly many terminal states\n",
        "#terminal states have only one action available: Exit \n",
        "#Transistion is as per the book 80% action and 20% sideways\n",
        "\n",
        "#Actions #just some alias\n",
        "Up    = 0\n",
        "Right = 1\n",
        "Down  = 2\n",
        "Left  = 3\n",
        "Exit  = 4\n",
        "\n",
        "class GridWorld :\n",
        "    def __init__(self, rows=3, columns=4, walls=[(1,1)], terminals= {(0,3):+1.0, (1,3):-1.0}, gamma=1.0, living_reward=0 ) :\n",
        "        \"\"\"We dont expect these parameters to change during the agent run\"\"\"\n",
        "        self.rows      = rows\n",
        "        self.columns   = columns\n",
        "        self.N         = rows * columns #total cells\n",
        "        self.walls     = walls\n",
        "        self.terminals = terminals #dictionary of terminal celss and their rewards.\n",
        "        self.gamma     = gamma\n",
        "        self.living_reward = living_reward\n",
        "        self.all_actions   = [ Up, Down, Right, Left, Exit ]\n",
        "        self.all_states    = [(r,c) for r in range(rows) for c in range(columns) if (r,c) not in walls ]\n",
        "  \n",
        "    #pretty print the grid and agent if given.\n",
        "    def print(self, agent_state=None) :\n",
        "        for r in range(self.rows) :\n",
        "            for c in range(self.columns) :\n",
        "                cell = (r,c)\n",
        "                if cell in self.walls :\n",
        "                    print('# ', end='')\n",
        "                elif cell in self.terminals :\n",
        "                    if self.terminals[cell] > 0 :\n",
        "                        print('+', end=' ')\n",
        "                    else :\n",
        "                        print('-', end=' ')\n",
        "                elif cell == agent_state :\n",
        "                    print('@ ', end='')\n",
        "                else :\n",
        "                    print('. ', end='')\n",
        "            print(\"\")\n",
        "                \n",
        "        \n",
        "#Let me try this design where the agent holds the GridWorld\n",
        "class GridWorldAgent :\n",
        "    \n",
        "    def __init__(self, state=(0,0), grid_world=None ) : \n",
        "        self.grid_world  = grid_world #the common world\n",
        "        #state is the agent position\n",
        "        self.state       = state\n",
        "        self.all_actions = grid_world.all_actions\n",
        "      \n",
        "    def actions(self) :\n",
        "        \"\"\"returns all valid actions from the current state\"\"\"\n",
        "        if self._is_terminal() :\n",
        "            return [Exit]\n",
        "        return [ Up, Down, Right, Left ]\n",
        "    \n",
        "    def children(self) :\n",
        "        \"\"\"returns a list of tuple of (new_node, reward, is_terminal?)\"\"\"\n",
        "        return [self.move(a) for a in self.actions()]\n",
        "    \n",
        "    def move(self, action) :\n",
        "        \"\"\"Take the action and return the tuple(new_state, reward, is_terminal)\"\"\" \n",
        "        \n",
        "        if action == Exit :\n",
        "            new_node    = None\n",
        "            reward      = self.grid_world.terminals[self.state] #terminals got the rewards as well\n",
        "            is_terminal = True\n",
        "            \n",
        "        else :\n",
        "            #we find the new_cell of the slippery action according to the prbabilities\n",
        "            #but this cell may be invalid. If invalid, we stay in the current state.\n",
        "            cell   = self._do_action(self._slipery(action))\n",
        "            if self._valid_cell(cell) :\n",
        "                new_node    = GridWorldAgent( state=cell, grid_world=self.grid_world )\n",
        "            else : #cannot move; we stay at the same place\n",
        "                new_node    = GridWorldAgent( state=self.state, grid_world=self.grid_world )\n",
        "                \n",
        "            reward      = self.grid_world.living_reward\n",
        "            is_terminal = False\n",
        "            \n",
        "        return new_node, reward, is_terminal #keep the same for mat as OpenAI gym.\n",
        "    \n",
        "    ##### Internal functions. Should not be called from outside the class ########\n",
        "        \n",
        "    def _do_action(self, action) : \n",
        "        \"\"\"Blindly takes the action without checking anything and returns the position\"\"\"\n",
        "        r,c = self.state #row & column\n",
        "        if action == Up :\n",
        "            return r-1, c  \n",
        "        if action == Down :\n",
        "            return r+1, c\n",
        "        if action == Right :\n",
        "            return r, c+1  \n",
        "        if action == Left :\n",
        "            return r, c-1 \n",
        "        return None #should not reach here\n",
        "    \n",
        "    def _slipery(self, action) :\n",
        "        \"\"\"try to take the action according to transition probabilities\"\"\"\n",
        "        transitions = { Up:[Up, Left, Right], Down:[Down,Left,Right], Left:[Left,Up,Down], Right:[Right,Up, Down]}\n",
        "        #a = np.random.choice(transitions[action],1, [0.8,0.1,0.1]) #choose an index(0-2) according to probability\n",
        "        a = random.choices( transitions[action], weights=[0.8,0.1,0.1])[0] #only one; we take index 0\n",
        "        return a\n",
        "            \n",
        "    def _valid_cell(self, cell) :\n",
        "        \"\"\"Returns true if the cell is a valid cell\"\"\"\n",
        "        r, c = cell #this may be an illegal node; we need to check\n",
        "        \n",
        "        #is it any of the walls?\n",
        "        if (r,c) in self.grid_world.walls :\n",
        "            return False\n",
        "        \n",
        "        #is it outside the grid?\n",
        "        if r < 0 or r >= self.grid_world.rows or c < 0 or c >= self.grid_world.columns :\n",
        "            return False\n",
        "        \n",
        "        return True\n",
        "    \n",
        "    def _is_terminal(self) :\n",
        "        \"\"\"To check if this is a terminal state; We havent yet taken Exit\"\"\"\n",
        "        return self.state in self.grid_world.terminals #Returns true if the agent is a terminal\n",
        "    \n",
        "    def print(self) :\n",
        "        # + and - are the terminal states. @ is our agent.\n",
        "        self.grid_world.print(self.state)"
      ],
      "execution_count": 0,
      "outputs": []
    },
    {
      "cell_type": "code",
      "metadata": {
        "id": "jMlt4WidlLos",
        "colab_type": "code",
        "colab": {}
      },
      "source": [
        "grid_world = GridWorld(gamma=0.9, living_reward=-0.04)\n",
        "start = (2,0) #as in the book\n",
        "a = GridWorldAgent( state=start, grid_world=grid_world )"
      ],
      "execution_count": 0,
      "outputs": []
    },
    {
      "cell_type": "code",
      "metadata": {
        "id": "EoZp-RtKlQEB",
        "colab_type": "code",
        "colab": {
          "base_uri": "https://localhost:8080/",
          "height": 72
        },
        "outputId": "c0dc5589-3d52-4395-eeb4-2e1cbf8f909c"
      },
      "source": [
        "# + and - are the terminal states. @ is our agent.\n",
        "a.print()"
      ],
      "execution_count": 4,
      "outputs": [
        {
          "output_type": "stream",
          "text": [
            ". . . + \n",
            ". # . - \n",
            "@ . . . \n"
          ],
          "name": "stdout"
        }
      ]
    },
    {
      "cell_type": "code",
      "metadata": {
        "id": "ARM2HAQElCM-",
        "colab_type": "code",
        "colab": {}
      },
      "source": [
        "############# I might change the API later ##########\n"
      ],
      "execution_count": 0,
      "outputs": []
    },
    {
      "cell_type": "code",
      "metadata": {
        "id": "UiIB6IdtlHJj",
        "colab_type": "code",
        "colab": {}
      },
      "source": [
        "class Policy :\n",
        "    def __init__(self, grid_world=None) :\n",
        "        \"\"\"Holds one policy and returns actions according to it\"\"\"\n",
        "        self.grid_world = grid_world\n",
        "        self.policy     = { } #{ state: policy_action}\n",
        "        \n",
        "    def __getitem__(self, state) :\n",
        "        return self.policy[state]\n",
        "    \n",
        "    def __setitem__(self, state, action) :\n",
        "        self.policy[state] = action"
      ],
      "execution_count": 0,
      "outputs": []
    },
    {
      "cell_type": "code",
      "metadata": {
        "id": "o8uac7g9lb46",
        "colab_type": "code",
        "colab": {}
      },
      "source": [
        "###### Some test code. "
      ],
      "execution_count": 0,
      "outputs": []
    },
    {
      "cell_type": "code",
      "metadata": {
        "id": "fh2ZfGg2logH",
        "colab_type": "code",
        "colab": {}
      },
      "source": [
        "def random_policy(grid_world=None) :\n",
        "    \"\"\"returns a random action function\"\"\"\n",
        "    def f(agent) :\n",
        "        actions = agent.actions()\n",
        "        return actions[random.randint(0, len(actions)-1)]\n",
        "    return f\n",
        "\n",
        "def fixed_policy(grid_world) :\n",
        "    p = Policy()\n",
        "    p.policy = {(r,c):Up for r in range(grid_world.rows) for c in range(grid_world.columns) \n",
        "                if (r,c) not in grid_world.terminals}\n",
        "    p.policy.update({a:Exit for a in grid_world.terminals})\n",
        "    #print(p.policy)\n",
        "    def f(agent) :\n",
        "        return p[agent.state]\n",
        "    return f\n",
        "\n",
        "def good_policy(grid_world) :\n",
        "    p = Policy()\n",
        "    p.policy = {\n",
        "        (0,0):Right, (0,1): Right, (0,2): Right, (0,3) : Exit,\n",
        "        (1,0):Up,    (1,1): Right, (1,2): Up,    (1,3) : Exit,\n",
        "        (2,0):Up,    (2,1): Left,  (2,2): Up,    (2,3) : Left,\n",
        "               }\n",
        "    p.policy.update({a:Exit for a in grid_world.terminals})\n",
        "    #print(p.policy)\n",
        "    def f(agent) :\n",
        "        return p[agent.state]\n",
        "    return f\n",
        "    \n",
        "def run(agent, policy=None) :\n",
        "    \"\"\"runs a full episode and return the total reward\"\"\"\n",
        "    rewards = []\n",
        "    a = agent\n",
        "    gamma = agent.grid_world.gamma\n",
        "    time_step = 0\n",
        "    while True :\n",
        "        action = policy(a)\n",
        "        #a.print()\n",
        "        #print(action)\n",
        "        a, r, exited = a.move(action)\n",
        "        rewards.append(r * (gamma**time_step) ) #the further we go down, the less we value the reward\n",
        "        if exited :\n",
        "            break\n",
        "    \n",
        "    time_step += 1\n",
        "    return rewards\n",
        "\n",
        "\n",
        "def expected_utility(agent, policy, N=100) :\n",
        "    \"\"\"run the policy till completion several times and return the expected utility\"\"\"\n",
        "    s = 0.0\n",
        "    for _ in range(N) :\n",
        "        #from the same start state we run till completion, N times\n",
        "        s += sum( run(a, policy) )\n",
        "    return s/N"
      ],
      "execution_count": 0,
      "outputs": []
    },
    {
      "cell_type": "code",
      "metadata": {
        "id": "Te1GnYPLlpNz",
        "colab_type": "code",
        "colab": {
          "base_uri": "https://localhost:8080/",
          "height": 217
        },
        "outputId": "9556eb78-b565-446c-e218-42cdaa5993e7"
      },
      "source": [
        "#page  651; AIMA Book\n",
        "for cell in grid_world.all_states :\n",
        "    a.state = cell\n",
        "    print (expected_utility(a, good_policy(grid_world), 10000))"
      ],
      "execution_count": 8,
      "outputs": [
        {
          "output_type": "stream",
          "text": [
            "0.8095760000001052\n",
            "0.8707560000000645\n",
            "0.9181279999999582\n",
            "1.0\n",
            "0.7603760000001115\n",
            "0.6568960000000649\n",
            "-1.0\n",
            "0.7062280000001091\n",
            "0.6543200000000846\n",
            "0.5820160000000824\n",
            "0.366540000000036\n"
          ],
          "name": "stdout"
        }
      ]
    },
    {
      "cell_type": "code",
      "metadata": {
        "id": "uKEfEoBcltXL",
        "colab_type": "code",
        "colab": {}
      },
      "source": [
        ""
      ],
      "execution_count": 0,
      "outputs": []
    }
  ]
}