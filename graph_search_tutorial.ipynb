{
  "nbformat": 4,
  "nbformat_minor": 0,
  "metadata": {
    "colab": {
      "name": "graph_search_tutorial.ipynb",
      "version": "0.3.2",
      "provenance": [],
      "collapsed_sections": [],
      "include_colab_link": true
    },
    "kernelspec": {
      "name": "python3",
      "display_name": "Python 3"
    }
  },
  "cells": [
    {
      "cell_type": "markdown",
      "metadata": {
        "id": "view-in-github",
        "colab_type": "text"
      },
      "source": [
        "<a href=\"https://colab.research.google.com/github/vbipin/aip/blob/master/graph_search_tutorial.ipynb\" target=\"_parent\"><img src=\"https://colab.research.google.com/assets/colab-badge.svg\" alt=\"Open In Colab\"/></a>"
      ]
    },
    {
      "cell_type": "code",
      "metadata": {
        "id": "Veo3RKienv-W",
        "colab_type": "code",
        "colab": {}
      },
      "source": [
        "\"\"\"\n",
        "This is created as part of the tutorial I designed. \n",
        "\"\"\"\n",
        "None"
      ],
      "execution_count": 0,
      "outputs": []
    },
    {
      "cell_type": "code",
      "metadata": {
        "id": "rI9JR_Gzn9Jb",
        "colab_type": "code",
        "colab": {}
      },
      "source": [
        "\"\"\"\n",
        "A graph is maintained as an dictionary with node as key and its adjacent node list as values\n",
        "eg: \n",
        "\n",
        "1 : [2,3,4] \n",
        "Node 1 is connected to nodes 2,3, and 4\n",
        "\n",
        "If the graph is undirected, each edge is added in forward direction as well as in the reverse\n",
        "eg : \n",
        "1 : [2, 3]\n",
        "2 : [1]\n",
        "3 : [1]\n",
        "\n",
        "\n",
        "Edges are tuples\n",
        "eg: (1,2) means there is an edge between node 1 and node 2\n",
        "\n",
        "\"\"\"\n",
        "None"
      ],
      "execution_count": 0,
      "outputs": []
    },
    {
      "cell_type": "code",
      "metadata": {
        "id": "B9A8tC-vovGJ",
        "colab_type": "code",
        "colab": {}
      },
      "source": [
        "\"\"\"\n",
        "a simple funtion graph makes an undirected graph from a list of edges\n",
        "g = graph( edges )\n",
        "\n",
        "\"\"\"\n",
        "\n",
        "def add_edge(graph, frm, to ) :\n",
        "    \"\"\"Add an edge starting at frm and ending at to\"\"\"\n",
        "    graph.setdefault(frm, []) #if frm is not in the graph, this will initialize it\n",
        "    graph[frm].append(to)     #append 'to' to the adjacent list\n",
        "\n",
        " \n",
        "def undirected_graph( edges ) :\n",
        "    \"\"\"Create a undirected graph; edges are taken as list of [(from, to), ...]\"\"\"\n",
        "    graph = {}\n",
        "    \n",
        "    #A graph is made undirected by adding a back link to every forward link.\n",
        "    for frm, to in edges :\n",
        "        add_edge(graph, frm, to) #forward link\n",
        "        add_edge(graph, to, frm) #backward link\n",
        "        \n",
        "    return graph\n",
        "\n",
        "def directed_graph( edges ) :\n",
        "    \"\"\"Create a directed graph; edges are taken as list of [(from, to), ...]\"\"\"\n",
        "    graph = {}\n",
        "    \n",
        "    for frm, to in edges :\n",
        "        add_edge(graph, frm, to)\n",
        "        \n",
        "    return graph\n",
        "\n",
        "\n",
        "def adj(graph, node) :\n",
        "    \"\"\"returns the adjacent list of node form the graph\"\"\"\n",
        "    return graph[node]"
      ],
      "execution_count": 0,
      "outputs": []
    },
    {
      "cell_type": "code",
      "metadata": {
        "id": "RmQ7ZrZGqAVf",
        "colab_type": "code",
        "colab": {}
      },
      "source": [
        "\"\"\"\n",
        "function connected is a dfs search from the start node to destination node.\n",
        "If destination is reached, there is a path between start and destination \n",
        "and the funtion returns True\n",
        "\n",
        "If no path found, it retuns false\n",
        "\"\"\"\n",
        "\n",
        "def is_connected(graph, start, end, marked) : #marked is a dict\n",
        "    \"\"\"returns True if there is a path from start to end else False\"\"\"\n",
        "    #mark start\n",
        "    marked[ start ] = True \n",
        "    \n",
        "    if start == end : #we found the end node?\n",
        "        return True\n",
        "    \n",
        "    #No; \n",
        "    #then we need to go down the graph more.   \n",
        "    for next_node in adj(graph, start) : #Lets check all the adjacent nodes of this,\n",
        "        if next_node not in marked :     #avoid nodes we already considered before\n",
        "            #recursion: we are calling the same function to get if the destination \n",
        "            #can be reached from any of the adjacent nodes\n",
        "            if is_connected(graph, next_node, end, marked) : #got a path?\n",
        "                return True\n",
        "    \n",
        "    #no path from any of the next_nodes\n",
        "    return False"
      ],
      "execution_count": 0,
      "outputs": []
    },
    {
      "cell_type": "code",
      "metadata": {
        "id": "XgWH2TN7rLxu",
        "colab_type": "code",
        "colab": {}
      },
      "source": [
        "################################################################################"
      ],
      "execution_count": 0,
      "outputs": []
    },
    {
      "cell_type": "code",
      "metadata": {
        "id": "EfxIczzwh8KF",
        "colab_type": "code",
        "colab": {}
      },
      "source": [
        "def dfs_path_recursive(graph, start, end, marked) : #marked is a dict\n",
        "    \"\"\"returns the path (list of nodes) from start to destination if found; else []\"\"\"\n",
        "    #mark start\n",
        "    marked[ start ] = True \n",
        "    \n",
        "    if start == end : #we found the end node?\n",
        "        return [end]  #path from node to itself is just the node\n",
        "    \n",
        "    #Not reached end; \n",
        "    #then we need to go down the graph more.   \n",
        "    for next_node in adj(graph, start) : #Lets check all the adjacent nodes of this,\n",
        "        if next_node not in marked :     #avoid nodes we already considered before\n",
        "            #recursion: we are calling the same function to get if the destination \n",
        "            #can be reached from any of the adjacent nodes\n",
        "            path = dfs_path_recursive(graph, next_node, end, marked)\n",
        "            if path :                    #got a path from next_node to end?\n",
        "                return [start] + path    #we prepend the parent node to the path\n",
        "    \n",
        "    #no path from any of the next_nodes\n",
        "    return False"
      ],
      "execution_count": 0,
      "outputs": []
    },
    {
      "cell_type": "code",
      "metadata": {
        "id": "xCqgCc6J91Tl",
        "colab_type": "code",
        "colab": {}
      },
      "source": [
        "#Non recursive dfs with paths\n",
        "#We use a list as LIFO (stack)        \n",
        "def dfs_path(graph, start, end) : \n",
        "    \"\"\"returns path if found a path from start to end, else []\"\"\"\n",
        "    marked = {} #for marking which nodes are already visited. {node: True}\n",
        "    stack  = [] #the dfs stack\n",
        "\n",
        "    marked[start] = True           #we mark start as visited\n",
        "    stack.append((start, [start])) #we are queing the node and path\n",
        "    \n",
        "    while stack : #not empty\n",
        "        current, path = stack.pop() #NOTE: This is what makes it a stack\n",
        "        if current == end :\n",
        "            return path\n",
        "        \n",
        "        #we look at all the nodes next to the current\n",
        "        for next_node in adj(graph, current) :  \n",
        "            if next_node not in marked : #we search if we havent marked them yet\n",
        "                stack.append( (next_node, path+[next_node]) )\n",
        "                marked[next_node] = True #we mark it as visited\n",
        "\n",
        "    return []"
      ],
      "execution_count": 0,
      "outputs": []
    },
    {
      "cell_type": "code",
      "metadata": {
        "id": "hCqwetQujRsW",
        "colab_type": "code",
        "colab": {}
      },
      "source": [
        "#BFS with paths; The only difference with dfs is that we use a FIFO ( queue )       \n",
        "def bfs_path(graph, start, end) : \n",
        "    \"\"\"returns path if found a path from start to end, else []\"\"\"\n",
        "    marked = {} #for marking which nodes are already visited. {node: True}\n",
        "    queue  = [] #the bfs queue\n",
        "\n",
        "    marked[start] = True           #we mark start as visited\n",
        "    queue.append((start, [start])) #we are queing the node and path\n",
        "    \n",
        "    while queue : #not empty\n",
        "        current, path = queue.pop(0) #NOTE: pop(0) we pop from the front and add at the end.\n",
        "        if current == end :\n",
        "            return path\n",
        "        \n",
        "        #we look at all the nodes next to the current\n",
        "        for next_node in adj(graph, current) :  \n",
        "            if next_node not in marked : #we search if we havent marked them yet\n",
        "                queue.append( (next_node, path+[next_node]) )\n",
        "                marked[next_node] = True #we mark it as visited\n",
        "\n",
        "    return []"
      ],
      "execution_count": 0,
      "outputs": []
    },
    {
      "cell_type": "code",
      "metadata": {
        "id": "pcSvgzMjmu1f",
        "colab_type": "code",
        "colab": {}
      },
      "source": [
        "################################################################################"
      ],
      "execution_count": 0,
      "outputs": []
    },
    {
      "cell_type": "code",
      "metadata": {
        "id": "QzKCUUXRmvB9",
        "colab_type": "code",
        "colab": {}
      },
      "source": [
        "#Let us do some testing\n",
        "edges = [ (1,2), (2,5), (2,6), (1,3), (1,4), (4,7), (4,8), (6,8)]\n",
        "g = undirected_graph( edges )"
      ],
      "execution_count": 0,
      "outputs": []
    },
    {
      "cell_type": "code",
      "metadata": {
        "id": "TrXI8rMomqZk",
        "colab_type": "code",
        "colab": {
          "base_uri": "https://localhost:8080/",
          "height": 34
        },
        "outputId": "a814906c-0872-4fff-f6aa-f65b5d262894"
      },
      "source": [
        "is_connected(g, 1,5, marked={})"
      ],
      "execution_count": 23,
      "outputs": [
        {
          "output_type": "execute_result",
          "data": {
            "text/plain": [
              "True"
            ]
          },
          "metadata": {
            "tags": []
          },
          "execution_count": 23
        }
      ]
    },
    {
      "cell_type": "code",
      "metadata": {
        "id": "3MhGV4uRuk2o",
        "colab_type": "code",
        "outputId": "63826775-8bde-4eec-b724-14824be49385",
        "colab": {
          "base_uri": "https://localhost:8080/",
          "height": 34
        }
      },
      "source": [
        "dfs_path_recursive(g, 1,6, {})"
      ],
      "execution_count": 24,
      "outputs": [
        {
          "output_type": "execute_result",
          "data": {
            "text/plain": [
              "[1, 2, 6]"
            ]
          },
          "metadata": {
            "tags": []
          },
          "execution_count": 24
        }
      ]
    },
    {
      "cell_type": "code",
      "metadata": {
        "id": "7BtWT5MsdvGw",
        "colab_type": "code",
        "colab": {
          "base_uri": "https://localhost:8080/",
          "height": 34
        },
        "outputId": "80b87846-45b7-4fda-d2ba-a207743f290d"
      },
      "source": [
        "dfs_path(g, 1,6)"
      ],
      "execution_count": 28,
      "outputs": [
        {
          "output_type": "execute_result",
          "data": {
            "text/plain": [
              "[1, 4, 8, 6]"
            ]
          },
          "metadata": {
            "tags": []
          },
          "execution_count": 28
        }
      ]
    },
    {
      "cell_type": "code",
      "metadata": {
        "id": "kuNEpFQYdy6F",
        "colab_type": "code",
        "colab": {
          "base_uri": "https://localhost:8080/",
          "height": 34
        },
        "outputId": "e42e5580-abfb-4bb7-a047-b2ff4b875a7e"
      },
      "source": [
        "bfs_path(g, 1,6)"
      ],
      "execution_count": 26,
      "outputs": [
        {
          "output_type": "execute_result",
          "data": {
            "text/plain": [
              "[1, 2, 6]"
            ]
          },
          "metadata": {
            "tags": []
          },
          "execution_count": 26
        }
      ]
    },
    {
      "cell_type": "code",
      "metadata": {
        "id": "8Qr0WStikOB0",
        "colab_type": "code",
        "colab": {}
      },
      "source": [
        ""
      ],
      "execution_count": 0,
      "outputs": []
    }
  ]
}