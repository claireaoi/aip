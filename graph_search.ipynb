{
  "nbformat": 4,
  "nbformat_minor": 0,
  "metadata": {
    "colab": {
      "name": "graph_search.ipynb",
      "version": "0.3.2",
      "provenance": [],
      "collapsed_sections": [],
      "include_colab_link": true
    },
    "kernelspec": {
      "name": "python3",
      "display_name": "Python 3"
    }
  },
  "cells": [
    {
      "cell_type": "markdown",
      "metadata": {
        "id": "view-in-github",
        "colab_type": "text"
      },
      "source": [
        "<a href=\"https://colab.research.google.com/github/vbipin/aip/blob/master/graph_search.ipynb\" target=\"_parent\"><img src=\"https://colab.research.google.com/assets/colab-badge.svg\" alt=\"Open In Colab\"/></a>"
      ]
    },
    {
      "cell_type": "code",
      "metadata": {
        "id": "OJNmGs75oL0y",
        "colab_type": "code",
        "colab": {}
      },
      "source": [
        "#ref: https://algs4.cs.princeton.edu/41graph/"
      ],
      "execution_count": 0,
      "outputs": []
    },
    {
      "cell_type": "code",
      "metadata": {
        "id": "ioEBKTmmzFD9",
        "colab_type": "code",
        "colab": {}
      },
      "source": [
        "class Edge :\n",
        "    def __init__(self, src, dest, weight=1) :\n",
        "        self.src    = src\n",
        "        self.dest   = dest\n",
        "        self.weight = float(weight)\n",
        "    #for printing\n",
        "    def __repr__(self) :\n",
        "        return str((self.src, self.dest, self.weight))\n",
        "    \n",
        "class Graph : \n",
        "    def __init__(self) :\n",
        "        self.V=0\n",
        "        self.E=0\n",
        "        self.nodes = {} #{ index: adjlist }\n",
        "    \n",
        "    def adj(self, v) :\n",
        "        return self.nodes.get(v, [])\n",
        "    \n",
        "    def add_vertex(self, v) : #v is the new vertex index\n",
        "        if v not in self.nodes :\n",
        "            self.V += 1\n",
        "            self.nodes[v] = [] #empty adj list\n",
        "            \n",
        "    def add_edge(self, src, dest, weight=1 ) : #edge is a tuple of (src, dest [weight])\n",
        "        self.E += 1  \n",
        "        self.nodes[src].append(Edge(src, dest, weight))\n",
        "        \n",
        "    def __str__(self) :\n",
        "        return str(self.nodes)"
      ],
      "execution_count": 0,
      "outputs": []
    },
    {
      "cell_type": "code",
      "metadata": {
        "id": "q6RPahLszIth",
        "colab_type": "code",
        "colab": {}
      },
      "source": [
        "#recursive dfs      \n",
        "def dfs(g, start, end, visited=None) : \n",
        "    \"\"\"returns True if found a path from start to end, else False\"\"\"\n",
        "    visited = visited or {} #only for the first time\n",
        "\n",
        "    if start == end :\n",
        "        return True\n",
        "\n",
        "    visited[start] = True #we mark it as visited\n",
        "\n",
        "    for edge in g.adj(start) :  #we look at all the nodes next to the current\n",
        "        if edge.dest not in visited : #we search if we havent visted them yet\n",
        "            if dfs(g, edge.dest, end, visited) :\n",
        "                return True\n",
        "\n",
        "    return False   "
      ],
      "execution_count": 0,
      "outputs": []
    },
    {
      "cell_type": "code",
      "metadata": {
        "id": "WPDym7MpzMU7",
        "colab_type": "code",
        "colab": {}
      },
      "source": [
        "#Non recursive dfs with paths\n",
        "#We use a list as stack        \n",
        "def dfs_path(g, start, end) : \n",
        "    \"\"\"returns path if found a path from start to end, else []\"\"\"\n",
        "    visited = {}\n",
        "    stack   = []\n",
        "\n",
        "    stack.append((start, [start])) #we are queing the index and path\n",
        "\n",
        "    while stack : #not empty\n",
        "        start, path = stack.pop() #NOTE: This is what makes it a stack\n",
        "        if start == end :\n",
        "            return path\n",
        "\n",
        "        visited[start] = True #we mark it as visited\n",
        "\n",
        "        for edge in g.adj(start) :  #we look at all the nodes next to the current\n",
        "            if edge.dest not in visited : #we search if we havent visted them yet\n",
        "                stack.append( (edge.dest, path+[edge.dest]) )\n",
        "\n",
        "    return []"
      ],
      "execution_count": 0,
      "outputs": []
    },
    {
      "cell_type": "code",
      "metadata": {
        "id": "MyIViS3PoYxZ",
        "colab_type": "code",
        "colab": {}
      },
      "source": [
        "#In bfs we simply use a queue instead of a stack\n",
        "def bfs_path(g, start, end) : \n",
        "    \"\"\"returns path if found a path from start to end, else False\"\"\"\n",
        "    visited = {}\n",
        "    queue   = [] #use pop(0) to make it as a queue\n",
        "    \n",
        "    queue.append((start, [start])) #we are queing the index and path\n",
        "\n",
        "    while queue : #not empty\n",
        "        start, path = queue.pop(0)  #NOTE: This is what makes it a queue\n",
        "        if start == end :\n",
        "            return path\n",
        "\n",
        "        visited[start] = True #we mark it as visited\n",
        "\n",
        "        for edge in g.adj(start) :  #we look at all the nodes next to the current\n",
        "            if edge.dest not in visited : #we search if we havent visted them yet\n",
        "                queue.append( (edge.dest, path+[edge.dest]) )\n",
        "\n",
        "    return []"
      ],
      "execution_count": 0,
      "outputs": []
    },
    {
      "cell_type": "code",
      "metadata": {
        "id": "LJzucaFuzQLn",
        "colab_type": "code",
        "colab": {}
      },
      "source": [
        "################################################################################"
      ],
      "execution_count": 0,
      "outputs": []
    },
    {
      "cell_type": "code",
      "metadata": {
        "id": "ZcY0-eBWzXZK",
        "colab_type": "code",
        "colab": {}
      },
      "source": [
        "###### Now some convenient funtions to build the graphs\n",
        "def directed_graph(g, edge_list) : \n",
        "    \"\"\"take a stream of tuples (src, dest [weight]) and build a directed graph\"\"\"\n",
        "    for src, dest, *weight in edge_list : #weight is optional\n",
        "        g.add_vertex(src)\n",
        "        g.add_vertex(dest)\n",
        "        g.add_edge(src, dest, *weight) #add the edge one by one\n",
        "    return g\n",
        "\n",
        "def undirected_graph(g, edge_list ) : \n",
        "    \"\"\"take a stream of tuples (src, dest [weight]) and build a undirected graph\"\"\"\n",
        "    for src, dest, *weight in edge_list : #weight is optional\n",
        "        g.add_vertex(src)\n",
        "        g.add_vertex(dest)\n",
        "        g.add_edge(src, dest, *weight)\n",
        "        g.add_edge(dest, src, *weight) #reverse the edge, so undirected\n",
        "    return g"
      ],
      "execution_count": 0,
      "outputs": []
    },
    {
      "cell_type": "code",
      "metadata": {
        "id": "eNdHi3cgpdK5",
        "colab_type": "code",
        "colab": {}
      },
      "source": [
        "################################################################################"
      ],
      "execution_count": 0,
      "outputs": []
    },
    {
      "cell_type": "code",
      "metadata": {
        "id": "55d_De3SoupV",
        "colab_type": "code",
        "colab": {
          "base_uri": "https://localhost:8080/",
          "height": 140
        },
        "outputId": "82f7997a-c192-4b77-887b-27004f6a7253"
      },
      "source": [
        "#https://algs4.cs.princeton.edu/41graph/images/graph.png\n",
        "from IPython.display import Image\n",
        "from IPython.core.display import HTML \n",
        "Image(url= \"https://algs4.cs.princeton.edu/41graph/images/graph.png\")"
      ],
      "execution_count": 18,
      "outputs": [
        {
          "output_type": "execute_result",
          "data": {
            "text/html": [
              "<img src=\"https://algs4.cs.princeton.edu/41graph/images/graph.png\"/>"
            ],
            "text/plain": [
              "<IPython.core.display.Image object>"
            ]
          },
          "metadata": {
            "tags": []
          },
          "execution_count": 18
        }
      ]
    },
    {
      "cell_type": "code",
      "metadata": {
        "id": "uuwN9TifzYXh",
        "colab_type": "code",
        "colab": {}
      },
      "source": [
        "#This is the same graph as in https://algs4.cs.princeton.edu/41graph/\n",
        "tiny_graph = \"\"\"\n",
        "0 5\n",
        "4 3\n",
        "0 1\n",
        "9 12\n",
        "6 4\n",
        "5 4\n",
        "0 2\n",
        "11 12\n",
        "9 10\n",
        "0 6\n",
        "7 8\n",
        "9 11\n",
        "5 3\n",
        "\"\"\"\n",
        "def text_to_edges( lines ) :\n",
        "    return [ [ int(i) for i in line.split()] for line in tiny_graph.split(\"\\n\") if line and len(line.split()) > 1 ]\n",
        "\n",
        "g = undirected_graph( Graph(), text_to_edges( tiny_graph ) )"
      ],
      "execution_count": 0,
      "outputs": []
    },
    {
      "cell_type": "code",
      "metadata": {
        "id": "6ntAL92qzg4d",
        "colab_type": "code",
        "colab": {
          "base_uri": "https://localhost:8080/",
          "height": 34
        },
        "outputId": "3dffe0e0-7767-4b58-e437-3270475db111"
      },
      "source": [
        "dfs_path(g,2,3)"
      ],
      "execution_count": 13,
      "outputs": [
        {
          "output_type": "execute_result",
          "data": {
            "text/plain": [
              "[2, 0, 6, 4, 5, 3]"
            ]
          },
          "metadata": {
            "tags": []
          },
          "execution_count": 13
        }
      ]
    },
    {
      "cell_type": "code",
      "metadata": {
        "id": "oOauEStGooM4",
        "colab_type": "code",
        "colab": {
          "base_uri": "https://localhost:8080/",
          "height": 34
        },
        "outputId": "e48d7587-3549-4ad6-9d45-1b6c6f4d6897"
      },
      "source": [
        "bfs_path(g,2,3)"
      ],
      "execution_count": 14,
      "outputs": [
        {
          "output_type": "execute_result",
          "data": {
            "text/plain": [
              "[2, 0, 5, 3]"
            ]
          },
          "metadata": {
            "tags": []
          },
          "execution_count": 14
        }
      ]
    },
    {
      "cell_type": "code",
      "metadata": {
        "id": "pmSI8fMDorVh",
        "colab_type": "code",
        "colab": {}
      },
      "source": [
        ""
      ],
      "execution_count": 0,
      "outputs": []
    }
  ]
}