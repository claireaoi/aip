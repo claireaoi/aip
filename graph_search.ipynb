{
  "nbformat": 4,
  "nbformat_minor": 0,
  "metadata": {
    "colab": {
      "name": "graph_search.ipynb",
      "provenance": [],
      "collapsed_sections": [],
      "include_colab_link": true
    },
    "kernelspec": {
      "name": "python3",
      "display_name": "Python 3"
    }
  },
  "cells": [
    {
      "cell_type": "markdown",
      "metadata": {
        "id": "view-in-github",
        "colab_type": "text"
      },
      "source": [
        "<a href=\"https://colab.research.google.com/github/vbipin/aip/blob/master/graph_search.ipynb\" target=\"_parent\"><img src=\"https://colab.research.google.com/assets/colab-badge.svg\" alt=\"Open In Colab\"/></a>"
      ]
    },
    {
      "cell_type": "code",
      "metadata": {
        "id": "OJNmGs75oL0y",
        "colab_type": "code",
        "colab": {}
      },
      "source": [
        "#ref: https://algs4.cs.princeton.edu/41graph/"
      ],
      "execution_count": 0,
      "outputs": []
    },
    {
      "cell_type": "code",
      "metadata": {
        "id": "ioEBKTmmzFD9",
        "colab_type": "code",
        "colab": {}
      },
      "source": [
        "class Edge :\n",
        "    def __init__(self, src, dest, weight=1) :\n",
        "        self.src    = src\n",
        "        self.dest   = dest\n",
        "        self.weight = float(weight)\n",
        "    #for printing\n",
        "    def __repr__(self) :\n",
        "        return str((self.src, self.dest, self.weight))\n",
        "    \n",
        "class Graph : \n",
        "    def __init__(self) :\n",
        "        self.V=0\n",
        "        self.E=0\n",
        "        self.nodes = {} #{ index: adjlist }\n",
        "    \n",
        "    def adj(self, v) :\n",
        "        return self.nodes.get(v, [])\n",
        "    \n",
        "    def add_vertex(self, v) : #v is the new vertex index\n",
        "        if v not in self.nodes :\n",
        "            self.V += 1\n",
        "            self.nodes[v] = [] #empty adj list\n",
        "            \n",
        "    def add_edge(self, src, dest, weight=1 ) : #edge is a tuple of (src, dest [weight])\n",
        "        self.E += 1  \n",
        "        self.nodes[src].append(Edge(src, dest, weight))\n",
        "        \n",
        "    def __str__(self) :\n",
        "        return str(self.nodes)"
      ],
      "execution_count": 0,
      "outputs": []
    },
    {
      "cell_type": "code",
      "metadata": {
        "id": "q6RPahLszIth",
        "colab_type": "code",
        "colab": {}
      },
      "source": [
        "#recursive dfs      \n",
        "def dfs(g, start, end, visited=None) : \n",
        "    \"\"\"returns True if found a path from start to end, else False\"\"\"\n",
        "    visited = visited or {} #only for the first time\n",
        "\n",
        "    if start == end :\n",
        "        return True\n",
        "\n",
        "    visited[start] = True #we mark it as visited\n",
        "\n",
        "    for edge in g.adj(start) :  #we look at all the nodes next to the current\n",
        "        if edge.dest not in visited : #we search if we havent visted them yet\n",
        "            if dfs(g, edge.dest, end, visited) :\n",
        "                return True\n",
        "\n",
        "    return False   "
      ],
      "execution_count": 0,
      "outputs": []
    },
    {
      "cell_type": "code",
      "metadata": {
        "id": "WPDym7MpzMU7",
        "colab_type": "code",
        "colab": {}
      },
      "source": [
        "#Non recursive dfs with paths\n",
        "#We use a list as stack        \n",
        "def dfs_path(g, start, end) : \n",
        "    \"\"\"returns path if found a path from start to end, else []\"\"\"\n",
        "    marked = {}\n",
        "    stack   = []\n",
        "\n",
        "    stack.append((start, [start])) #we are queing the index and path\n",
        "    marked[start] = True #we mark it as visited\n",
        "    \n",
        "    while stack : #not empty\n",
        "        current, path = stack.pop() #NOTE: This is what makes it a stack\n",
        "        if current == end :\n",
        "            return path\n",
        "\n",
        "        for edge in g.adj(current) :  #we look at all the nodes next to the current\n",
        "            if edge.dest not in marked : #we search if we havent visted them yet\n",
        "                stack.append( (edge.dest, path+[edge.dest]) )\n",
        "                marked[edge.dest] = True #we mark it as visited\n",
        "\n",
        "    return []"
      ],
      "execution_count": 0,
      "outputs": []
    },
    {
      "cell_type": "code",
      "metadata": {
        "id": "MyIViS3PoYxZ",
        "colab_type": "code",
        "colab": {}
      },
      "source": [
        "#In bfs we simply use a queue instead of a stack\n",
        "def bfs_path(g, start, end) : \n",
        "    \"\"\"returns path if found a path from start to end, else False\"\"\"\n",
        "    marked = {}\n",
        "    queue   = [] #use pop(0) to make it as a queue\n",
        "    \n",
        "    queue.append((start, [start])) #we are queing the index and path\n",
        "    marked[start] = True #we mark it as visited\n",
        "    \n",
        "    while queue : #not empty\n",
        "        current, path = queue.pop(0)  #NOTE: This is what makes it a queue\n",
        "        if current == end :\n",
        "            return path\n",
        "\n",
        "        for edge in g.adj(current) :  #we look at all the nodes next to the current\n",
        "            if edge.dest not in marked : #we search if we havent visted them yet\n",
        "                queue.append( (edge.dest, path+[edge.dest]) )\n",
        "                marked[edge.dest] = True #we mark it as visited\n",
        "\n",
        "    return []"
      ],
      "execution_count": 0,
      "outputs": []
    },
    {
      "cell_type": "code",
      "metadata": {
        "id": "04VrktpGl_aZ",
        "colab_type": "code",
        "colab": {}
      },
      "source": [
        "#for ufs we need a priority queue.\n",
        "#we need to pop the items according to its priority\n",
        "#lets try to implement with a list of (priority, node)\n",
        "#This class use both a hap and dict\n",
        "#The dict is used to check membership and to retrieve the node.\n",
        "\n",
        "from heapq import heappush, heappop\n",
        "#ref: https://docs.python.org/3.0/library/heapq.html\n",
        "\n",
        "class PQ :\n",
        "    def __init__(self) :\n",
        "        self.q = []\n",
        "        self.nodes = {} #we just keep the nodes in q here. This is used to check if a node is already present.\n",
        "        self.count = 0  #just to avoid class comparisons if priorities are equal.\n",
        "        \n",
        "    def __len__(self) :\n",
        "        return len(self.q)\n",
        "    \n",
        "    def __getitem__(self, node) :\n",
        "        priority, count, node = self.nodes[node]\n",
        "        return priority, node\n",
        "    \n",
        "    def __contains__(self, node) :\n",
        "        #contains(a,b)\n",
        "        #Return the outcome of the test b in a. Note the reversed operands.\n",
        "        return node in self.nodes\n",
        "        \n",
        "    def append(self, priority, node): #high priority at the end\n",
        "        self.count += 1\n",
        "        record = (priority, self.count, node) #this is the one we store in PQ\n",
        "        #print(record) #XXX\n",
        "        heappush(self.q, record)        \n",
        "        self.nodes[node] = record\n",
        "        return \n",
        "    \n",
        "    def pop(self):        \n",
        "        priority, count, node = heappop(self.q) \n",
        "        del self.nodes[node]  \n",
        "        return priority, node\n",
        "\n",
        "def ucs_path(g, start, end) :\n",
        "    \"\"\"returns the path found according to uniform cost search\"\"\"\n",
        "    \"\"\"\n",
        "    Here we need the edge values. We keep the fringe as a priority queue.\n",
        "    Otherwise, the code should look the same as other searches.\n",
        "    \"\"\"\n",
        "    marked = {}\n",
        "    parent = {}\n",
        "    queue   = PQ()\n",
        "\n",
        "    queue.append(0, start) #we are queing the index and path\n",
        "    marked[start] = True #we mark it as visited\n",
        "    parent[start] = None #we need this to calculate the path #XXX can we combine with marked??\n",
        "    \n",
        "    while queue : #not empty\n",
        "        cost, current = queue.pop() \n",
        "        if current == end :\n",
        "            return path_from_dict(parent, end)\n",
        "        \n",
        "        for edge in g.adj(current) :  #we look at all the nodes next to the current\n",
        "            if edge.dest not in marked: #we search if we havent visted them yet\n",
        "                queue.append( edge.weight + cost, edge.dest )\n",
        "                marked[edge.dest] = True #we mark it as visited\n",
        "                parent[edge.dest] = current\n",
        "            elif edge.dest in queue : #is it there already?\n",
        "                \"\"\"\n",
        "                We need to updat the queue if the new path cost is lower.\n",
        "                We must replace the existing node in the PQ. But our PQ can handle mutiple nodes.\n",
        "                so, we simply add the new instance with lesser path cost.\n",
        "                \"\"\"\n",
        "                path_cost, node = queue[edge.dest]\n",
        "                if path_cost > edge.weight + cost : #the current node and paths are better\n",
        "                    queue.append( edge.weight + cost, edge.dest )\n",
        "                    parent[edge.dest] = current #new path\n",
        "\n",
        "    return []\n",
        "\n",
        "\n",
        "#convenient funtion to calculate the path from dict\n",
        "def path_from_dict( d, end ) :\n",
        "    path = [end]\n",
        "    while True :\n",
        "        parent = d[end]\n",
        "        if not parent:\n",
        "            break\n",
        "        path.insert(0, parent)\n",
        "        end = parent\n",
        "    return path\n",
        "\n"
      ],
      "execution_count": 0,
      "outputs": []
    },
    {
      "cell_type": "code",
      "metadata": {
        "id": "LJzucaFuzQLn",
        "colab_type": "code",
        "colab": {}
      },
      "source": [
        "################################################################################"
      ],
      "execution_count": 0,
      "outputs": []
    },
    {
      "cell_type": "code",
      "metadata": {
        "id": "ZcY0-eBWzXZK",
        "colab_type": "code",
        "colab": {}
      },
      "source": [
        "###### Now some convenient funtions to build the graphs\n",
        "def directed_graph(g, edge_list) : \n",
        "    \"\"\"take a stream of tuples (src, dest [weight]) and build a directed graph\"\"\"\n",
        "    for src, dest, *weight in edge_list : #weight is optional\n",
        "        g.add_vertex(src)\n",
        "        g.add_vertex(dest)\n",
        "        g.add_edge(src, dest, *weight) #add the edge one by one\n",
        "    return g\n",
        "\n",
        "def undirected_graph(g, edge_list ) : \n",
        "    \"\"\"take a stream of tuples (src, dest [weight]) and build a undirected graph\"\"\"\n",
        "    for src, dest, *weight in edge_list : #weight is optional\n",
        "        g.add_vertex(src)\n",
        "        g.add_vertex(dest)\n",
        "        g.add_edge(src, dest, *weight)\n",
        "        g.add_edge(dest, src, *weight) #reverse the edge, so undirected\n",
        "    return g"
      ],
      "execution_count": 0,
      "outputs": []
    },
    {
      "cell_type": "code",
      "metadata": {
        "id": "eNdHi3cgpdK5",
        "colab_type": "code",
        "colab": {}
      },
      "source": [
        "################################################################################"
      ],
      "execution_count": 0,
      "outputs": []
    },
    {
      "cell_type": "code",
      "metadata": {
        "id": "55d_De3SoupV",
        "colab_type": "code",
        "outputId": "cab5a8ed-8b1b-4795-ed9b-463ef1da3446",
        "colab": {
          "base_uri": "https://localhost:8080/",
          "height": 140
        }
      },
      "source": [
        "#https://algs4.cs.princeton.edu/41graph/images/graph.png\n",
        "#ref: https://stackoverflow.com/questions/32370281/how-to-embed-image-or-picture-in-jupyter-notebook-either-from-a-local-machine-o\n",
        "from IPython.display import Image\n",
        "from IPython.core.display import HTML \n",
        "Image(url= \"https://algs4.cs.princeton.edu/41graph/images/graph.png\")"
      ],
      "execution_count": 0,
      "outputs": [
        {
          "output_type": "execute_result",
          "data": {
            "text/html": [
              "<img src=\"https://algs4.cs.princeton.edu/41graph/images/graph.png\"/>"
            ],
            "text/plain": [
              "<IPython.core.display.Image object>"
            ]
          },
          "metadata": {
            "tags": []
          },
          "execution_count": 50
        }
      ]
    },
    {
      "cell_type": "code",
      "metadata": {
        "id": "uuwN9TifzYXh",
        "colab_type": "code",
        "colab": {}
      },
      "source": [
        "#This is the same graph as in https://algs4.cs.princeton.edu/41graph/\n",
        "tiny_graph = \"\"\"\n",
        "0 5\n",
        "4 3\n",
        "0 1\n",
        "9 12\n",
        "6 4\n",
        "5 4\n",
        "0 2\n",
        "11 12\n",
        "9 10\n",
        "0 6\n",
        "7 8\n",
        "9 11\n",
        "5 3\n",
        "\"\"\"\n",
        "def text_to_edges( lines ) :\n",
        "    return [ [ int(i) for i in line.split()] for line in tiny_graph.split(\"\\n\") if line and len(line.split()) > 1 ]\n",
        "\n",
        "g = undirected_graph( Graph(), text_to_edges( tiny_graph ) )"
      ],
      "execution_count": 0,
      "outputs": []
    },
    {
      "cell_type": "code",
      "metadata": {
        "id": "6ntAL92qzg4d",
        "colab_type": "code",
        "outputId": "6b0ecf11-bbe9-44a2-ccee-a7ee1d9fc709",
        "colab": {
          "base_uri": "https://localhost:8080/",
          "height": 35
        }
      },
      "source": [
        "dfs_path(g,2,3)"
      ],
      "execution_count": 0,
      "outputs": [
        {
          "output_type": "execute_result",
          "data": {
            "text/plain": [
              "[2, 0, 6, 4, 3]"
            ]
          },
          "metadata": {
            "tags": []
          },
          "execution_count": 52
        }
      ]
    },
    {
      "cell_type": "code",
      "metadata": {
        "id": "oOauEStGooM4",
        "colab_type": "code",
        "outputId": "256a8157-c627-4764-d31f-2a83cf154b53",
        "colab": {
          "base_uri": "https://localhost:8080/",
          "height": 35
        }
      },
      "source": [
        "bfs_path(g,2,3)"
      ],
      "execution_count": 0,
      "outputs": [
        {
          "output_type": "execute_result",
          "data": {
            "text/plain": [
              "[2, 0, 5, 3]"
            ]
          },
          "metadata": {
            "tags": []
          },
          "execution_count": 53
        }
      ]
    },
    {
      "cell_type": "code",
      "metadata": {
        "id": "pmSI8fMDorVh",
        "colab_type": "code",
        "colab": {}
      },
      "source": [
        "################################################################################"
      ],
      "execution_count": 0,
      "outputs": []
    },
    {
      "cell_type": "code",
      "metadata": {
        "id": "B0TJNj-Pp-VC",
        "colab_type": "code",
        "colab": {}
      },
      "source": [
        "#We create some sample search problems to check our algorithms\n",
        "#this class will create a 2D grid of row x colums and its graph.\n",
        "#Some of the cells can be disabled by putting it into walls\n",
        "#for example SearchGrid(3,4,walls=[0,10]) will create a grid that has cell 0 and 10 are disabled.\n",
        "\n",
        "class SearchGrid :\n",
        "    def __init__(self, rows=5, columns=5, walls=[], diagonal=False ) : #walls -> [ list of index ]\n",
        "        self.rows = rows\n",
        "        self.columns = columns\n",
        "        self.N = rows * columns #total cells\n",
        "        self.walls = walls\n",
        "        self.diagonal = diagonal #falg to check if can move diagonally\n",
        "        \n",
        "    def edges(self) : \n",
        "        \"\"\"return edges of the graph in a list of tuples (u,v)\"\"\"\n",
        "        edges = []\n",
        "\n",
        "        #Just a convenient funtion\n",
        "        def _add_edge(u, v) :\n",
        "            #we add the edge if source and destinations are not walls\n",
        "            #and within the grid\n",
        "            if v % self.columns == 0 : #check if at the edge.\n",
        "                return\n",
        "            if u not in self.walls and v not in self.walls and u < self.N and v < self.N :\n",
        "                edges.append( (u,v) )\n",
        "        \n",
        "        #first the forward links to the right\n",
        "        for i in range(self.N) :\n",
        "            #if (i+1) % self.columns != 0 :#checking if it is an edge cell\n",
        "            _add_edge(i, i+1)            #connect to next cell\n",
        "            _add_edge(i,i+self.columns)  #connect to the cell below; it is i+width\n",
        "            if self.diagonal : #add diagonal edges as well\n",
        "                _add_edge(i,i+self.columns+1)  #connect to the cell below + 1\n",
        "                #_add_edge(i,i+self.columns-1)  #connect to the cell below + 1\n",
        "                \n",
        "        return edges\n",
        "    \n",
        "    #pretty print the grid and path if given. path -> [ list of nodes ]\n",
        "    def print(self, path=[]) :\n",
        "        for i in range(self.N) :\n",
        "            if i in self.walls :\n",
        "                print('# ', end='')\n",
        "            elif i in path :\n",
        "                print('^ ', end='')\n",
        "            else :\n",
        "                print('. ', end='')\n",
        "            if (i+1) % self.columns == 0 :\n",
        "                print(\"\")"
      ],
      "execution_count": 0,
      "outputs": []
    },
    {
      "cell_type": "code",
      "metadata": {
        "id": "YeAxnKUUqAic",
        "colab_type": "code",
        "colab": {}
      },
      "source": [
        "grid = SearchGrid(3,4,walls=[10,2])\n",
        "g = undirected_graph(Graph(), grid.edges() )"
      ],
      "execution_count": 0,
      "outputs": []
    },
    {
      "cell_type": "code",
      "metadata": {
        "id": "-z3K7zsiqEr0",
        "colab_type": "code",
        "outputId": "cd7557fe-dd44-445a-ba34-9dd32fb151bf",
        "colab": {
          "base_uri": "https://localhost:8080/",
          "height": 72
        }
      },
      "source": [
        "grid.print(bfs_path(g,11,9))"
      ],
      "execution_count": 0,
      "outputs": [
        {
          "output_type": "stream",
          "text": [
            ". . # . \n",
            ". ^ ^ ^ \n",
            ". ^ # ^ \n"
          ],
          "name": "stdout"
        }
      ]
    },
    {
      "cell_type": "code",
      "metadata": {
        "id": "XxLemjWyX-Sm",
        "colab_type": "code",
        "colab": {}
      },
      "source": [
        "#Make a grid with walls\n",
        "grid = SearchGrid(10,10,walls=[10,2,17,199])\n",
        "\n",
        "#Make the graph of the grid from the edges\n",
        "g = undirected_graph(Graph(), grid.edges() )"
      ],
      "execution_count": 0,
      "outputs": []
    },
    {
      "cell_type": "code",
      "metadata": {
        "id": "XVbSectaYCj0",
        "colab_type": "code",
        "outputId": "05b55131-fcbc-4e4c-da2a-f16b1e15c3fb",
        "colab": {
          "base_uri": "https://localhost:8080/",
          "height": 199
        }
      },
      "source": [
        "path = bfs_path(g,0,grid.N-1)\n",
        "grid.print(path)"
      ],
      "execution_count": 0,
      "outputs": [
        {
          "output_type": "stream",
          "text": [
            "^ ^ # . . . . . . . \n",
            "# ^ ^ ^ ^ ^ ^ # . . \n",
            ". . . . . . ^ ^ ^ ^ \n",
            ". . . . . . . . . ^ \n",
            ". . . . . . . . . ^ \n",
            ". . . . . . . . . ^ \n",
            ". . . . . . . . . ^ \n",
            ". . . . . . . . . ^ \n",
            ". . . . . . . . . ^ \n",
            ". . . . . . . . . ^ \n"
          ],
          "name": "stdout"
        }
      ]
    },
    {
      "cell_type": "code",
      "metadata": {
        "id": "DX9AnSqVYINV",
        "colab_type": "code",
        "outputId": "ab2bc04d-dd7f-48f7-f868-d6e270d4d6f7",
        "colab": {
          "base_uri": "https://localhost:8080/",
          "height": 199
        }
      },
      "source": [
        "path = dfs_path(g,0,grid.N-1)\n",
        "grid.print(path)"
      ],
      "execution_count": 0,
      "outputs": [
        {
          "output_type": "stream",
          "text": [
            "^ ^ # . . . . . . . \n",
            "# ^ . . . . . # . . \n",
            ". ^ . . . . . . . . \n",
            ". ^ . . . . . . . . \n",
            ". ^ . . . . . . . . \n",
            ". ^ . . . . . . . . \n",
            ". ^ . . . . . . . . \n",
            ". ^ . . . . . . . . \n",
            ". ^ . . . . . . . . \n",
            ". ^ ^ ^ ^ ^ ^ ^ ^ ^ \n"
          ],
          "name": "stdout"
        }
      ]
    },
    {
      "cell_type": "code",
      "metadata": {
        "id": "o_Te_pPMYLDV",
        "colab_type": "code",
        "outputId": "74d5691d-f095-465e-8685-a219e47cc0c3",
        "colab": {
          "base_uri": "https://localhost:8080/",
          "height": 163
        }
      },
      "source": [
        "#Actions #just some alias\n",
        "North = 0\n",
        "East  = 1\n",
        "South = 2\n",
        "West  = 3\n",
        "    \n",
        "#8puzzle\n",
        "class puzzleN :\n",
        "    def __init__(self, start_config=None, rows=3,columns=3) : #start_config is a list with all numbers and 0\n",
        "        self.rows, self.columns = rows, columns\n",
        "        if start_config :\n",
        "            self.data  = tuple(start_config) #never modified\n",
        "            self.blank = self.data.index(0)\n",
        "            self.terminal = tuple(sorted(self.data))\n",
        "        self.all_actions = [North, East, South, West]\n",
        "    \n",
        "    def edge_cost(self, a=None, next_node=None) :\n",
        "        \"\"\"let us put a heuristic here\"\"\"\n",
        "        #sum up all the out of alignment slides\n",
        "        return 1 #just a dummy for testing\n",
        "    \n",
        "    def heuristic_cost(self, a=None, next_node=None) :\n",
        "        \"\"\"let us put a heuristic here\"\"\"\n",
        "        #sum up all the out of alignment slides\n",
        "        #return 1 #just a dummy for testing\n",
        "        count = 0\n",
        "        for i in range(len(self.data)) :\n",
        "            if self.data[i] != self.terminal[i] :\n",
        "                count += 1\n",
        "        return count\n",
        "        \n",
        "    def actions(self) :\n",
        "        \"\"\"find the actions possible\"\"\"\n",
        "        #we assume we are moving the blank to North, South, East, West if possible\n",
        "        return [ a for a in self.all_actions if self.can_move(a) ]\n",
        "    \n",
        "    def move(self, action) :\n",
        "        \"\"\"make the move and return new class. The current class is not modified\"\"\"\n",
        "        assert self.can_move(action) #Illegal Move: Cannot make this move.\n",
        "        row, col = self.row_col(self.blank)\n",
        "        if action == North :\n",
        "            row -= 1\n",
        "        elif action == South :\n",
        "            row += 1\n",
        "        elif action == East :\n",
        "            col += 1\n",
        "        elif action == West :\n",
        "            col -= 1\n",
        "        new_blank = self.position(row,col)\n",
        "        #print (row,col)\n",
        "        #print(new_blank)\n",
        "        #we need to put zero at this new location and put the old value tot he current blank\n",
        "        new_data = list(self.data)\n",
        "        new_data[ self.blank ] = new_data[ new_blank ]\n",
        "        new_data[ new_blank ]  = 0\n",
        "        return puzzleN(new_data, self.rows, self.columns)\n",
        "    \n",
        "    def is_terminal(self) :\n",
        "        if self.data == self.terminal :\n",
        "            return True\n",
        "        return False\n",
        "    \n",
        "    def children(self) : #reurns new states of all legal actions\n",
        "        act = self.actions()\n",
        "        if not act :\n",
        "            return None, None\n",
        "        child_nodes = [ self.move(a) for a in act ]\n",
        "        return [ (c, a, self.edge_cost()) for c,a in zip(child_nodes,act) ]\n",
        "    \n",
        "    def can_move(self, action) :\n",
        "        \"\"\"return true if the 0 can take the action\"\"\"\n",
        "        row, col = self.row_col(self.blank)\n",
        "        #print(row,col)\n",
        "        if action is North and row == 0 :           #first row, cannot move north\n",
        "            return False\n",
        "        if action is South and row == self.rows-1 : #last row, cannot move south\n",
        "            return False        \n",
        "        if action is East and col == self.columns-1:#last column, cannot move East\n",
        "            return False\n",
        "        if action is West and col == 0 :            #first column, cannot move West\n",
        "            return False\n",
        "        return True\n",
        "        \n",
        "    #some utility funtions. We dont need them if using numpy\n",
        "    def row_col(self, i) :\n",
        "        row = i // self.columns # integer divisor\n",
        "        col = i % self.columns #int reminder\n",
        "        return row, col\n",
        "    \n",
        "    def position(self, row, col) :\n",
        "        return row * self.columns + col\n",
        "    \n",
        "    def print(self) :\n",
        "        for i in range(self.rows * self.columns) :\n",
        "            print(self.data[i], end='')\n",
        "            if (i+1) % self.columns == 0 :\n",
        "                print(\"\")\n",
        "        print('--------')\n",
        "        \n",
        "    def adj(self) :\n",
        "        act = self.actions()\n",
        "        if not act :\n",
        "            return []\n",
        "        return [ self.move(a) for a in act ]\n",
        "    \n",
        "    def __hash__(self) :\n",
        "        return hash(self.data)\n",
        "    \n",
        "    def __eq__(self, other) :\n",
        "        return self.data == other.data            \n",
        "        \n",
        "###################################################################################\n",
        "\n",
        "\n",
        "#some test\n",
        "def str_to_list(s) :\n",
        "    #takes a string of ints and returns the list\n",
        "    return [ int(i) for i in s.split() ]\n",
        "s = \"\"\"\n",
        "    1 3 7\n",
        "    2 5 6\n",
        "    8 0 4\n",
        "    \"\"\"\n",
        "p = puzzleN(str_to_list(s))\n",
        "p.print()\n",
        "q = p.move(North)\n",
        "q.print()"
      ],
      "execution_count": 2,
      "outputs": [
        {
          "output_type": "stream",
          "text": [
            "137\n",
            "256\n",
            "804\n",
            "--------\n",
            "137\n",
            "206\n",
            "854\n",
            "--------\n"
          ],
          "name": "stdout"
        }
      ]
    },
    {
      "cell_type": "code",
      "metadata": {
        "id": "5Dd6Fvhmm09Z",
        "colab_type": "code",
        "colab": {}
      },
      "source": [
        "def astar_game_path(start, print=False) :\n",
        "    \"\"\"returns the path found according to uniform cost search\"\"\"\n",
        "    \"\"\"\n",
        "    Here we need the edge values. We keep the fringe as a priority queue.\n",
        "    Otherwise, the code should look the same as other searches.\n",
        "    \"\"\"\n",
        "    marked = { start: True } #mark as visited\n",
        "    parent = { start: None } #keep the parent of each node to find the path in the end\n",
        "    pqueue = PQ()\n",
        "    pqueue.append(0, start) #we are queing the pathcost and node\n",
        "\n",
        "    \n",
        "    while pqueue : #not empty\n",
        "        \n",
        "        cost, current = pqueue.pop()\n",
        "        if print :\n",
        "            current.print()\n",
        "        \n",
        "        if current.is_terminal() :\n",
        "            return path_from_dict(parent, current)\n",
        "                \n",
        "        for dest, action, weight in current.children() :  #we look at all the nodes next to the current\n",
        "            dest_cost = weight + cost + dest.heuristic_cost()\n",
        "            \n",
        "            if dest not in marked: #we search if we havent visted them yet\n",
        "                pqueue.append( dest_cost, dest )\n",
        "                marked[dest] = True #we mark it as visited\n",
        "                parent[dest] = current\n",
        "                \n",
        "            elif dest in pqueue : #is it there already?\n",
        "                \"\"\"\n",
        "                We need to updat the queue if the new path cost is lower.\n",
        "                XXX We must replace the existing node in the PQ\n",
        "                \"\"\"\n",
        "                path_cost, node = pqueue[dest]\n",
        "                if path_cost > dest_cost : #the current node and paths are better\n",
        "                    pqueue.append( dest_cost, dest ) #instead of replace, we simply add\n",
        "                    parent[dest] = current #new path\n",
        "\n",
        "    return []\n",
        "\n"
      ],
      "execution_count": 0,
      "outputs": []
    },
    {
      "cell_type": "code",
      "metadata": {
        "id": "Mjl-7Zekm6fz",
        "colab_type": "code",
        "colab": {}
      },
      "source": [
        "#A hacky way to create a random initial 8puzzle\n",
        "import random\n",
        "def shuffle_puzzle8(N=10) :\n",
        "    a = puzzleN([0,1,2,3,4,5,6,7,8])\n",
        "    a.move(East).move(South)\n",
        "    for _ in range(N) :\n",
        "        act = a.actions()\n",
        "        #print(act)\n",
        "        if act:\n",
        "            a = a.move(act[random.randint(0,len(act)-1)])\n",
        "    return a"
      ],
      "execution_count": 0,
      "outputs": []
    },
    {
      "cell_type": "code",
      "metadata": {
        "id": "VE14nDQcnDc7",
        "colab_type": "code",
        "colab": {}
      },
      "source": [
        "############################################################################"
      ],
      "execution_count": 0,
      "outputs": []
    },
    {
      "cell_type": "code",
      "metadata": {
        "id": "Swb_9YY3nHq8",
        "colab_type": "code",
        "outputId": "8ca41225-3b41-49d9-fa59-6afcb04ca89c",
        "colab": {
          "base_uri": "https://localhost:8080/",
          "height": 90
        }
      },
      "source": [
        "p = shuffle_puzzle8(40)\n",
        "p.print()"
      ],
      "execution_count": 6,
      "outputs": [
        {
          "output_type": "stream",
          "text": [
            "740\n",
            "362\n",
            "185\n",
            "--------\n"
          ],
          "name": "stdout"
        }
      ]
    },
    {
      "cell_type": "code",
      "metadata": {
        "id": "4zdROV91nIVc",
        "colab_type": "code",
        "outputId": "2d4994e3-485d-450e-ab24-48d25f5c9f47",
        "colab": {
          "base_uri": "https://localhost:8080/",
          "height": 35
        }
      },
      "source": [
        "path = astar_game_path(p)\n",
        "print(len(path))"
      ],
      "execution_count": 9,
      "outputs": [
        {
          "output_type": "stream",
          "text": [
            "19\n"
          ],
          "name": "stdout"
        }
      ]
    },
    {
      "cell_type": "code",
      "metadata": {
        "id": "vJEQ5b6anPqP",
        "colab_type": "code",
        "colab": {}
      },
      "source": [
        "###########################################################################"
      ],
      "execution_count": 0,
      "outputs": []
    },
    {
      "cell_type": "code",
      "metadata": {
        "id": "OG8tTusenXVp",
        "colab_type": "code",
        "colab": {}
      },
      "source": [
        "#This class will provide the game of RushHour\n",
        "#ref: https://en.wikipedia.org/wiki/Rush_Hour_(puzzle)\n",
        "#the parking lot is represented as a 2D grid with empty space has value 0\n",
        "#any number above 0 is a car. A car that occupies two cells have its number in both the cells\n",
        "\n",
        "#Actions are specified as a tuple of (car Number, North/East/South/West) eg(1, North)\n",
        "#The red car to bring out is 1,1\n",
        "#e.g.\n",
        "\"\"\"\n",
        "0 0 0 0 0 0\n",
        "5 0 0 2 0 0\n",
        "5 1 1 2 0 0\n",
        "0 0 4 4 4 0\n",
        "0 0 3 3 0 0\n",
        "0 0 0 0 0 0\n",
        "\"\"\"\n",
        "\n",
        "#just some alias\n",
        "North = 0\n",
        "East  = 1\n",
        "South = 2\n",
        "West  = 3\n",
        "class RushHour :\n",
        "    def __init__(self, start_config, rows=6, columns=6) : #out_row is the row where the red car is\n",
        "        self.rows, self.columns = rows, columns\n",
        "        self.N    = rows * columns\n",
        "        self.data = tuple(start_config)\n",
        "        #we fix this now\n",
        "        self.red_car = 1\n",
        "        self.out_row = 2 #we can find it out from the data; XXXX\n",
        "        self.cars  = self._cars() #dictionary of { car_num : (direction, start_index, end_index)...}\n",
        "        \n",
        "    def is_terminal(self) :\n",
        "        \"\"\"checks if the current config is the end or not\"\"\"\n",
        "        #it is end when the redcar reaches the end of the out_row\n",
        "        exit_index = (self.out_row+1)*self.columns - 1 #we go one ahead and -1 to reach the end of out_row\n",
        "        if self.data[exit_index] == self.red_car :\n",
        "            return True\n",
        "        return False\n",
        "    \n",
        "    def actions(self) :\n",
        "        return [ (c,a) for c in self.cars.keys() for a in [North, East, South, West] if self.can_move((c,a))]\n",
        "    \n",
        "    def move(self, action) : #will return new class. Existing one is not changed\n",
        "        car, act = action\n",
        "        direction, start_idx, end_idx = self.cars[car] #we take out the car indexs\n",
        "        #new data; we dont touch the original\n",
        "        new_data = list(self.data)\n",
        "        \n",
        "        if act == North :\n",
        "            new_start_idx = start_idx - self.columns            \n",
        "            new_data[new_start_idx], new_data[end_idx]  = car, 0\n",
        "            \n",
        "        elif act == South :\n",
        "            new_end_idx = end_idx + self.columns\n",
        "            new_data[start_idx], new_data[new_end_idx]  = 0, car\n",
        "            \n",
        "        elif act == East :           \n",
        "            new_end_idx = end_idx + 1\n",
        "            new_data[start_idx], new_data[new_end_idx]  = 0, car\n",
        "        \n",
        "        elif act == West :            \n",
        "            new_start_idx = start_idx - 1\n",
        "            new_data[new_start_idx], new_data[end_idx]  = car, 0\n",
        "            \n",
        "        return RushHour(new_data, self.rows, self.columns)\n",
        "    \n",
        "    \n",
        "    def children(self) :\n",
        "        \"\"\"returns list of tuple( nextnode, action, weight )\"\"\"\n",
        "        if self.is_terminal() :\n",
        "            return []\n",
        "        #we need to find which all cars can move. We sweep from 0 to end.\n",
        "        return [ (self.move(a), a, 1) for a in self.actions() ]\n",
        "    \n",
        "    def heuristic_cost(self) :\n",
        "        return 1 #dummy\n",
        "    \n",
        "    def __hash__(self) :\n",
        "        return hash(self.data)\n",
        "    \n",
        "    def __eq__(self, other) :\n",
        "        return self.data == other.data\n",
        "    \n",
        "    def print(self) :\n",
        "        for i in range(self.N) :\n",
        "            print(self.data[i], end=' ')\n",
        "            if (i+1) % self.columns == 0 :\n",
        "                print(\"\")\n",
        "        print('------------')\n",
        "    \n",
        "    #-------\n",
        "    #New funtion that finds all cars in one pass; used only in init.\n",
        "    #cars are stored as (direction, start index, end index)\n",
        "    #direction==0 means horizontal car\n",
        "    def _cars(self) :\n",
        "        cars = {}\n",
        "        for i, car in enumerate(self.data) : #we go through the list\n",
        "            if car in cars :\n",
        "                d, s, e = cars[car] #previous start and end index\n",
        "                #d == 0 initially; we need to make it 1 if vertical car\n",
        "                if i-s >= self.columns :\n",
        "                    d = 1\n",
        "                cars[car] = (d, s, i) #replace with new index\n",
        "            elif car > 0 : #new car, 0 and -1 we dont consider as cars\n",
        "                cars[car] = (0,i,i) #initially we put direction as horizontal.\n",
        "        return cars\n",
        "    \n",
        "    def can_move(self, action) :\n",
        "        car, act = action\n",
        "        direction, start_idx, end_idx = self.cars[car]\n",
        "        if direction == 0 : #horizontal car\n",
        "            if act == East : #can we move to right?\n",
        "                new_end_idx = end_idx + 1\n",
        "                #if not at the right edge and there is space\n",
        "                if new_end_idx < self.N and new_end_idx % self.columns != 0 and self.data[new_end_idx] == 0: \n",
        "                    return True\n",
        "            if act == West : #can we move to left?\n",
        "                new_start_idx = start_idx - 1\n",
        "                if new_start_idx >= 0 and start_idx % self.columns != 0 and self.data[new_start_idx] == 0: \n",
        "                    return True\n",
        "        else : #it is a vertical car\n",
        "            if act == North : #can we move up?\n",
        "                new_start_idx = start_idx - self.columns\n",
        "                #if not at the top edge and there is space\n",
        "                if new_start_idx >= 0 and self.data[new_start_idx] == 0: \n",
        "                    return True\n",
        "            if act == South : #can we move down?\n",
        "                new_end_idx = end_idx + self.columns\n",
        "                if new_end_idx < self.N and self.data[new_end_idx] == 0: \n",
        "                    return True\n",
        "            \n",
        "        return False"
      ],
      "execution_count": 0,
      "outputs": []
    },
    {
      "cell_type": "code",
      "metadata": {
        "id": "XkokvZz4nYTU",
        "colab_type": "code",
        "colab": {}
      },
      "source": [
        "s = \"\"\"\n",
        "0 0 0 0 7 7\n",
        "5 0 0 2 6 0\n",
        "5 1 1 2 6 0\n",
        "0 0 4 4 4 0\n",
        "0 0 3 3 0 0\n",
        "0 0 0 0 0 0\n",
        "\"\"\"\n",
        "r = RushHour(str_to_list(s))"
      ],
      "execution_count": 0,
      "outputs": []
    },
    {
      "cell_type": "code",
      "metadata": {
        "id": "aIjW8XZ5qFcP",
        "colab_type": "code",
        "outputId": "750d5e50-093b-48b8-d4ab-22a3468cb888",
        "colab": {
          "base_uri": "https://localhost:8080/",
          "height": 35
        }
      },
      "source": [
        "path = astar_game_path(r)\n",
        "print(len(path))"
      ],
      "execution_count": 12,
      "outputs": [
        {
          "output_type": "stream",
          "text": [
            "8\n"
          ],
          "name": "stdout"
        }
      ]
    },
    {
      "cell_type": "code",
      "metadata": {
        "id": "Ln82ftwbNXQ8",
        "colab_type": "code",
        "colab": {}
      },
      "source": [
        "\n",
        "move15 = \"\"\"\n",
        "2 2 0 3 0 0\n",
        "0 4 0 3 5 5\n",
        "6 4 1 1 7 8\n",
        "6 9 9 0 7 8\n",
        "0 0 10 11 11 0\n",
        "12 12 10 0 0 0\n",
        "\"\"\""
      ],
      "execution_count": 0,
      "outputs": []
    },
    {
      "cell_type": "code",
      "metadata": {
        "id": "HVWco7ynNY9U",
        "colab_type": "code",
        "outputId": "49f2e6f1-ddd8-4369-e014-d550d442b991",
        "colab": {
          "base_uri": "https://localhost:8080/",
          "height": 35
        }
      },
      "source": [
        "h = RushHour(str_to_list(move15))\n",
        "path = astar_game_path(h, print=False)\n",
        "print(len(path))"
      ],
      "execution_count": 14,
      "outputs": [
        {
          "output_type": "stream",
          "text": [
            "28\n"
          ],
          "name": "stdout"
        }
      ]
    },
    {
      "cell_type": "code",
      "metadata": {
        "id": "3RDegzPVNZCD",
        "colab_type": "code",
        "colab": {}
      },
      "source": [
        "hard = \"\"\"\n",
        "2 5 5 0 8 0\n",
        "2 6 7 0 8 9\n",
        "2 6 7 1 1 9\n",
        "3 3 3 10 0 9\n",
        "0 0 11 10 13 13\n",
        "4 4 11 12 12 0\n",
        "\"\"\""
      ],
      "execution_count": 0,
      "outputs": []
    },
    {
      "cell_type": "code",
      "metadata": {
        "id": "XBVdT3wikWay",
        "colab_type": "code",
        "outputId": "1925eb7c-e551-46b0-fe3c-4bfe5e00a9e7",
        "colab": {
          "base_uri": "https://localhost:8080/",
          "height": 35
        }
      },
      "source": [
        "h = RushHour(str_to_list(hard))\n",
        "path = astar_game_path(h, print=False)\n",
        "print(len(path))"
      ],
      "execution_count": 16,
      "outputs": [
        {
          "output_type": "stream",
          "text": [
            "82\n"
          ],
          "name": "stdout"
        }
      ]
    },
    {
      "cell_type": "code",
      "metadata": {
        "id": "LW9Y9gylngX9",
        "colab_type": "code",
        "colab": {}
      },
      "source": [
        ""
      ],
      "execution_count": 0,
      "outputs": []
    }
  ]
}