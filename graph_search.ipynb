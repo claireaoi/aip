{
  "nbformat": 4,
  "nbformat_minor": 0,
  "metadata": {
    "colab": {
      "name": "graph_search.ipynb",
      "version": "0.3.2",
      "provenance": [],
      "collapsed_sections": [],
      "include_colab_link": true
    },
    "kernelspec": {
      "name": "python3",
      "display_name": "Python 3"
    }
  },
  "cells": [
    {
      "cell_type": "markdown",
      "metadata": {
        "id": "view-in-github",
        "colab_type": "text"
      },
      "source": [
        "<a href=\"https://colab.research.google.com/github/vbipin/aip/blob/master/graph_search.ipynb\" target=\"_parent\"><img src=\"https://colab.research.google.com/assets/colab-badge.svg\" alt=\"Open In Colab\"/></a>"
      ]
    },
    {
      "cell_type": "code",
      "metadata": {
        "id": "OJNmGs75oL0y",
        "colab_type": "code",
        "colab": {}
      },
      "source": [
        "#ref: https://algs4.cs.princeton.edu/41graph/"
      ],
      "execution_count": 0,
      "outputs": []
    },
    {
      "cell_type": "code",
      "metadata": {
        "id": "ioEBKTmmzFD9",
        "colab_type": "code",
        "colab": {}
      },
      "source": [
        "class Edge :\n",
        "    def __init__(self, src, dest, weight=1) :\n",
        "        self.src    = src\n",
        "        self.dest   = dest\n",
        "        self.weight = float(weight)\n",
        "    #for printing\n",
        "    def __repr__(self) :\n",
        "        return str((self.src, self.dest, self.weight))\n",
        "    \n",
        "class Graph : \n",
        "    def __init__(self) :\n",
        "        self.V=0\n",
        "        self.E=0\n",
        "        self.nodes = {} #{ index: adjlist }\n",
        "    \n",
        "    def adj(self, v) :\n",
        "        return self.nodes.get(v, [])\n",
        "    \n",
        "    def add_vertex(self, v) : #v is the new vertex index\n",
        "        if v not in self.nodes :\n",
        "            self.V += 1\n",
        "            self.nodes[v] = [] #empty adj list\n",
        "            \n",
        "    def add_edge(self, src, dest, weight=1 ) : #edge is a tuple of (src, dest [weight])\n",
        "        self.E += 1  \n",
        "        self.nodes[src].append(Edge(src, dest, weight))\n",
        "        \n",
        "    def __str__(self) :\n",
        "        return str(self.nodes)"
      ],
      "execution_count": 0,
      "outputs": []
    },
    {
      "cell_type": "code",
      "metadata": {
        "id": "q6RPahLszIth",
        "colab_type": "code",
        "colab": {}
      },
      "source": [
        "#recursive dfs      \n",
        "def dfs(g, start, end, visited=None) : \n",
        "    \"\"\"returns True if found a path from start to end, else False\"\"\"\n",
        "    visited = visited or {} #only for the first time\n",
        "\n",
        "    if start == end :\n",
        "        return True\n",
        "\n",
        "    visited[start] = True #we mark it as visited\n",
        "\n",
        "    for edge in g.adj(start) :  #we look at all the nodes next to the current\n",
        "        if edge.dest not in visited : #we search if we havent visted them yet\n",
        "            if dfs(g, edge.dest, end, visited) :\n",
        "                return True\n",
        "\n",
        "    return False   "
      ],
      "execution_count": 0,
      "outputs": []
    },
    {
      "cell_type": "code",
      "metadata": {
        "id": "WPDym7MpzMU7",
        "colab_type": "code",
        "colab": {}
      },
      "source": [
        "#Non recursive dfs with paths\n",
        "#We use a list as stack        \n",
        "def dfs_path(g, start, end) : \n",
        "    \"\"\"returns path if found a path from start to end, else []\"\"\"\n",
        "    marked = {}\n",
        "    stack   = []\n",
        "\n",
        "    stack.append((start, [start])) #we are queing the index and path\n",
        "    marked[start] = True #we mark it as visited\n",
        "    \n",
        "    while stack : #not empty\n",
        "        current, path = stack.pop() #NOTE: This is what makes it a stack\n",
        "        if current == end :\n",
        "            return path\n",
        "\n",
        "        for edge in g.adj(current) :  #we look at all the nodes next to the current\n",
        "            if edge.dest not in marked : #we search if we havent visted them yet\n",
        "                stack.append( (edge.dest, path+[edge.dest]) )\n",
        "                marked[edge.dest] = True #we mark it as visited\n",
        "\n",
        "    return []"
      ],
      "execution_count": 0,
      "outputs": []
    },
    {
      "cell_type": "code",
      "metadata": {
        "id": "MyIViS3PoYxZ",
        "colab_type": "code",
        "colab": {}
      },
      "source": [
        "#In bfs we simply use a queue instead of a stack\n",
        "def bfs_path(g, start, end) : \n",
        "    \"\"\"returns path if found a path from start to end, else False\"\"\"\n",
        "    marked = {}\n",
        "    queue   = [] #use pop(0) to make it as a queue\n",
        "    \n",
        "    queue.append((start, [start])) #we are queing the index and path\n",
        "    marked[start] = True #we mark it as visited\n",
        "    \n",
        "    while queue : #not empty\n",
        "        current, path = queue.pop(0)  #NOTE: This is what makes it a queue\n",
        "        if current == end :\n",
        "            return path\n",
        "\n",
        "        for edge in g.adj(current) :  #we look at all the nodes next to the current\n",
        "            if edge.dest not in marked : #we search if we havent visted them yet\n",
        "                queue.append( (edge.dest, path+[edge.dest]) )\n",
        "                marked[edge.dest] = True #we mark it as visited\n",
        "\n",
        "    return []"
      ],
      "execution_count": 0,
      "outputs": []
    },
    {
      "cell_type": "code",
      "metadata": {
        "id": "LJzucaFuzQLn",
        "colab_type": "code",
        "colab": {}
      },
      "source": [
        "################################################################################"
      ],
      "execution_count": 0,
      "outputs": []
    },
    {
      "cell_type": "code",
      "metadata": {
        "id": "ZcY0-eBWzXZK",
        "colab_type": "code",
        "colab": {}
      },
      "source": [
        "###### Now some convenient funtions to build the graphs\n",
        "def directed_graph(g, edge_list) : \n",
        "    \"\"\"take a stream of tuples (src, dest [weight]) and build a directed graph\"\"\"\n",
        "    for src, dest, *weight in edge_list : #weight is optional\n",
        "        g.add_vertex(src)\n",
        "        g.add_vertex(dest)\n",
        "        g.add_edge(src, dest, *weight) #add the edge one by one\n",
        "    return g\n",
        "\n",
        "def undirected_graph(g, edge_list ) : \n",
        "    \"\"\"take a stream of tuples (src, dest [weight]) and build a undirected graph\"\"\"\n",
        "    for src, dest, *weight in edge_list : #weight is optional\n",
        "        g.add_vertex(src)\n",
        "        g.add_vertex(dest)\n",
        "        g.add_edge(src, dest, *weight)\n",
        "        g.add_edge(dest, src, *weight) #reverse the edge, so undirected\n",
        "    return g"
      ],
      "execution_count": 0,
      "outputs": []
    },
    {
      "cell_type": "code",
      "metadata": {
        "id": "eNdHi3cgpdK5",
        "colab_type": "code",
        "colab": {}
      },
      "source": [
        "################################################################################"
      ],
      "execution_count": 0,
      "outputs": []
    },
    {
      "cell_type": "code",
      "metadata": {
        "id": "55d_De3SoupV",
        "colab_type": "code",
        "outputId": "82f7997a-c192-4b77-887b-27004f6a7253",
        "colab": {
          "base_uri": "https://localhost:8080/",
          "height": 140
        }
      },
      "source": [
        "#https://algs4.cs.princeton.edu/41graph/images/graph.png\n",
        "#ref: https://stackoverflow.com/questions/32370281/how-to-embed-image-or-picture-in-jupyter-notebook-either-from-a-local-machine-o\n",
        "from IPython.display import Image\n",
        "from IPython.core.display import HTML \n",
        "Image(url= \"https://algs4.cs.princeton.edu/41graph/images/graph.png\")"
      ],
      "execution_count": 0,
      "outputs": [
        {
          "output_type": "execute_result",
          "data": {
            "text/html": [
              "<img src=\"https://algs4.cs.princeton.edu/41graph/images/graph.png\"/>"
            ],
            "text/plain": [
              "<IPython.core.display.Image object>"
            ]
          },
          "metadata": {
            "tags": []
          },
          "execution_count": 18
        }
      ]
    },
    {
      "cell_type": "code",
      "metadata": {
        "id": "uuwN9TifzYXh",
        "colab_type": "code",
        "colab": {}
      },
      "source": [
        "#This is the same graph as in https://algs4.cs.princeton.edu/41graph/\n",
        "tiny_graph = \"\"\"\n",
        "0 5\n",
        "4 3\n",
        "0 1\n",
        "9 12\n",
        "6 4\n",
        "5 4\n",
        "0 2\n",
        "11 12\n",
        "9 10\n",
        "0 6\n",
        "7 8\n",
        "9 11\n",
        "5 3\n",
        "\"\"\"\n",
        "def text_to_edges( lines ) :\n",
        "    return [ [ int(i) for i in line.split()] for line in tiny_graph.split(\"\\n\") if line and len(line.split()) > 1 ]\n",
        "\n",
        "g = undirected_graph( Graph(), text_to_edges( tiny_graph ) )"
      ],
      "execution_count": 0,
      "outputs": []
    },
    {
      "cell_type": "code",
      "metadata": {
        "id": "6ntAL92qzg4d",
        "colab_type": "code",
        "outputId": "ff53ba2f-94e7-43ae-9fc6-8442df77b60f",
        "colab": {
          "base_uri": "https://localhost:8080/",
          "height": 34
        }
      },
      "source": [
        "dfs_path(g,2,3)"
      ],
      "execution_count": 9,
      "outputs": [
        {
          "output_type": "execute_result",
          "data": {
            "text/plain": [
              "[2, 0, 6, 4, 3]"
            ]
          },
          "metadata": {
            "tags": []
          },
          "execution_count": 9
        }
      ]
    },
    {
      "cell_type": "code",
      "metadata": {
        "id": "oOauEStGooM4",
        "colab_type": "code",
        "outputId": "3d154703-7076-467c-f237-3294d2513eae",
        "colab": {
          "base_uri": "https://localhost:8080/",
          "height": 34
        }
      },
      "source": [
        "bfs_path(g,2,3)"
      ],
      "execution_count": 10,
      "outputs": [
        {
          "output_type": "execute_result",
          "data": {
            "text/plain": [
              "[2, 0, 5, 3]"
            ]
          },
          "metadata": {
            "tags": []
          },
          "execution_count": 10
        }
      ]
    },
    {
      "cell_type": "code",
      "metadata": {
        "id": "pmSI8fMDorVh",
        "colab_type": "code",
        "colab": {}
      },
      "source": [
        "################################################################################"
      ],
      "execution_count": 0,
      "outputs": []
    },
    {
      "cell_type": "code",
      "metadata": {
        "id": "B0TJNj-Pp-VC",
        "colab_type": "code",
        "colab": {}
      },
      "source": [
        "#We create some sample search problems to check our algorithms\n",
        "#this class will create a 2D grid of row x colums and its graph.\n",
        "#Some of the cells can be disabled by putting it into walls\n",
        "#for example SearchGrid(3,4,walls=[0,10]) will create a grid that has cell 0 and 10 are disabled.\n",
        "\n",
        "class SearchGrid :\n",
        "    def __init__(self, rows=3, columns=4, walls=[] ) : #walls -> [ list of index ]\n",
        "        self.rows = rows\n",
        "        self.columns = columns\n",
        "        self.N = rows * columns #total cells\n",
        "        self.walls = walls\n",
        "        \n",
        "    def edges(self) : \n",
        "        \"\"\"return edges of the graph in a list of tuples (u,v)\"\"\"\n",
        "        edges = []\n",
        "\n",
        "        #Just a convenient funtion\n",
        "        def _add_edge(u, v) :\n",
        "            if u not in self.walls and v not in self.walls :\n",
        "                edges.append( (u,v) )\n",
        "        \n",
        "        #first the forward links to the right\n",
        "        for i in range(self.N) :\n",
        "            if (i+1) % self.columns != 0 :#checking if it is an edge cell\n",
        "                _add_edge(i, i+1)\n",
        "        #now downward edges ( i to i+columns )\n",
        "        for i in range(self.N-self.columns) : #last row dont have downward links\n",
        "            _add_edge(i,i+self.columns)  #the cell below i is i+width\n",
        "        \n",
        "        return edges\n",
        "    \n",
        "    #pretty print the grid and path if given. path -> [ list of nodes ]\n",
        "    def print(self, path=[]) :\n",
        "        for i in range(self.N) :\n",
        "            if i in self.walls :\n",
        "                print('# ', end='')\n",
        "            elif i in path :\n",
        "                print('. ', end='')\n",
        "            else :\n",
        "                print('_ ', end='')\n",
        "            if (i+1) % self.columns == 0 :\n",
        "                print(\"\")"
      ],
      "execution_count": 0,
      "outputs": []
    },
    {
      "cell_type": "code",
      "metadata": {
        "id": "YeAxnKUUqAic",
        "colab_type": "code",
        "colab": {}
      },
      "source": [
        "grid = SearchGrid(3,4,walls=[10,2])\n",
        "g = undirected_graph(Graph(), grid.edges() )"
      ],
      "execution_count": 0,
      "outputs": []
    },
    {
      "cell_type": "code",
      "metadata": {
        "id": "-z3K7zsiqEr0",
        "colab_type": "code",
        "colab": {
          "base_uri": "https://localhost:8080/",
          "height": 68
        },
        "outputId": "fc90f28b-392f-4478-c3ef-6fd7c7d7af93"
      },
      "source": [
        "grid.print(bfs_path(g,11,9))"
      ],
      "execution_count": 13,
      "outputs": [
        {
          "output_type": "stream",
          "text": [
            "_ _ # _ \n",
            "_ . . . \n",
            "_ . # . \n"
          ],
          "name": "stdout"
        }
      ]
    },
    {
      "cell_type": "code",
      "metadata": {
        "id": "XxLemjWyX-Sm",
        "colab_type": "code",
        "colab": {}
      },
      "source": [
        "#Make a grid with walls\n",
        "grid = SearchGrid(10,10,walls=[10,2,17,199])\n",
        "\n",
        "#Make the graph of the grid from the edges\n",
        "g = undirected_graph(Graph(), grid.edges() )"
      ],
      "execution_count": 0,
      "outputs": []
    },
    {
      "cell_type": "code",
      "metadata": {
        "id": "XVbSectaYCj0",
        "colab_type": "code",
        "colab": {
          "base_uri": "https://localhost:8080/",
          "height": 187
        },
        "outputId": "a42079c9-0420-431d-9497-4cc030e1a3c9"
      },
      "source": [
        "path = bfs_path(g,0,grid.N-1)\n",
        "grid.print(path)"
      ],
      "execution_count": 15,
      "outputs": [
        {
          "output_type": "stream",
          "text": [
            ". . # _ _ _ _ _ _ _ \n",
            "# . . . . . . # _ _ \n",
            "_ _ _ _ _ _ . . . . \n",
            "_ _ _ _ _ _ _ _ _ . \n",
            "_ _ _ _ _ _ _ _ _ . \n",
            "_ _ _ _ _ _ _ _ _ . \n",
            "_ _ _ _ _ _ _ _ _ . \n",
            "_ _ _ _ _ _ _ _ _ . \n",
            "_ _ _ _ _ _ _ _ _ . \n",
            "_ _ _ _ _ _ _ _ _ . \n"
          ],
          "name": "stdout"
        }
      ]
    },
    {
      "cell_type": "code",
      "metadata": {
        "id": "DX9AnSqVYINV",
        "colab_type": "code",
        "colab": {
          "base_uri": "https://localhost:8080/",
          "height": 187
        },
        "outputId": "3328cb39-84f9-4f82-f2c8-f2d1022554ba"
      },
      "source": [
        "path = dfs_path(g,0,grid.N-1)\n",
        "grid.print(path)"
      ],
      "execution_count": 16,
      "outputs": [
        {
          "output_type": "stream",
          "text": [
            ". . # . . . _ _ _ _ \n",
            "# . _ . _ . _ # _ _ \n",
            "_ . _ . _ . _ . . . \n",
            "_ . _ . _ . _ . _ . \n",
            "_ . _ . _ . _ . _ . \n",
            "_ . _ . _ . _ . _ . \n",
            "_ . _ . _ . _ . _ . \n",
            "_ . _ . _ . _ . _ . \n",
            "_ . _ . _ . _ . _ . \n",
            "_ . . . _ . . . _ . \n"
          ],
          "name": "stdout"
        }
      ]
    },
    {
      "cell_type": "code",
      "metadata": {
        "id": "o_Te_pPMYLDV",
        "colab_type": "code",
        "colab": {}
      },
      "source": [
        ""
      ],
      "execution_count": 0,
      "outputs": []
    }
  ]
}